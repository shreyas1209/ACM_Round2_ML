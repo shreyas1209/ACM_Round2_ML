{
  "nbformat": 4,
  "nbformat_minor": 0,
  "metadata": {
    "colab": {
      "name": "SVM_MNIST_1.ipynb",
      "provenance": [],
      "collapsed_sections": [],
      "authorship_tag": "ABX9TyOcs1oDOkMNiSk2j/9M9tUw",
      "include_colab_link": true
    },
    "kernelspec": {
      "name": "python3",
      "display_name": "Python 3"
    }
  },
  "cells": [
    {
      "cell_type": "markdown",
      "metadata": {
        "id": "view-in-github",
        "colab_type": "text"
      },
      "source": [
        "<a href=\"https://colab.research.google.com/github/shreyas1209/ACM_Round2_ML/blob/main/SVM_MNIST_1.ipynb\" target=\"_parent\"><img src=\"https://colab.research.google.com/assets/colab-badge.svg\" alt=\"Open In Colab\"/></a>"
      ]
    },
    {
      "cell_type": "code",
      "metadata": {
        "id": "ZgdqRQurDVKb"
      },
      "source": [
        "import numpy as np\n",
        "import pandas as pd\n",
        "from sklearn.model_selection import train_test_split\n",
        "from sklearn.svm import SVC\n",
        "from sklearn.datasets import fetch_openml\n",
        "from sklearn.preprocessing import LabelEncoder\n",
        "from sklearn.preprocessing import OneHotEncoder\n",
        "import matplotlib.pyplot as plt"
      ],
      "execution_count": null,
      "outputs": []
    },
    {
      "cell_type": "code",
      "metadata": {
        "id": "mDjQ_D8mDyGc"
      },
      "source": [
        "X, y = fetch_openml('mnist_784', version=1, return_X_y=True)\n",
        "\n",
        "X = np.array(X)\n",
        "y = np.array(y)"
      ],
      "execution_count": null,
      "outputs": []
    },
    {
      "cell_type": "code",
      "metadata": {
        "id": "sfkk0SNYMAKG"
      },
      "source": [
        "#displaying the "
      ],
      "execution_count": null,
      "outputs": []
    },
    {
      "cell_type": "code",
      "metadata": {
        "colab": {
          "base_uri": "https://localhost:8080/"
        },
        "id": "Rb0_TVL_EXsW",
        "outputId": "a8d4d49e-4f1c-44f6-97dc-113f398d050e"
      },
      "source": [
        "#performing label encoding\n",
        "data = y\n",
        "values = np.array(data)\n",
        "print(values)\n",
        "# integer encode\n",
        "label_encoder = LabelEncoder()\n",
        "y = label_encoder.fit_transform(values)\n",
        "print(y)\n"
      ],
      "execution_count": null,
      "outputs": [
        {
          "output_type": "stream",
          "text": [
            "['5' '0' '4' ... '4' '5' '6']\n",
            "[5 0 4 ... 4 5 6]\n"
          ],
          "name": "stdout"
        }
      ]
    },
    {
      "cell_type": "code",
      "metadata": {
        "id": "T8p9ddk0HiLL"
      },
      "source": [
        "\n",
        "#splitting train and test set\n",
        "X_train, X_test, y_train, y_test = train_test_split(X, y, train_size =0.15 ,test_size=0.0375)\n"
      ],
      "execution_count": null,
      "outputs": []
    },
    {
      "cell_type": "code",
      "metadata": {
        "id": "uny8tlTqJK4B"
      },
      "source": [
        "#training the model\n",
        "\n",
        "model = SVC(kernel='rbf',C=1000)\n",
        "model.fit(X_train, y_train) \n",
        "y_predicted = model.predict(X_test)"
      ],
      "execution_count": null,
      "outputs": []
    },
    {
      "cell_type": "code",
      "metadata": {
        "colab": {
          "base_uri": "https://localhost:8080/"
        },
        "id": "dlAKtuBgK0ks",
        "outputId": "56e6453e-2abd-4c43-806f-3da5c01de91f"
      },
      "source": [
        "#accuracy\n",
        "from sklearn import metrics\n",
        "print(\"accuracy:\", metrics.accuracy_score(y_true=y_test, y_pred=y_predicted), \"\\n\")"
      ],
      "execution_count": null,
      "outputs": [
        {
          "output_type": "stream",
          "text": [
            "accuracy: 0.9676190476190476 \n",
            "\n"
          ],
          "name": "stdout"
        }
      ]
    },
    {
      "cell_type": "code",
      "metadata": {
        "colab": {
          "base_uri": "https://localhost:8080/",
          "height": 283
        },
        "id": "8XqE3K1ROEYa",
        "outputId": "95ad6d2b-9574-4269-8040-1bd3b339b981"
      },
      "source": [
        "#testing random samples\n",
        "\n",
        "rand_ind  = np.random.randint(0,70000)\n",
        "plt.imshow(X[rand_ind].reshape((28,28)))\n",
        "plt.plot()\n",
        "print(\"The value is: \",y[rand_ind])\n",
        "\n",
        "  \n"
      ],
      "execution_count": null,
      "outputs": [
        {
          "output_type": "stream",
          "text": [
            "The value is:  0\n"
          ],
          "name": "stdout"
        },
        {
          "output_type": "display_data",
          "data": {
            "image/png": "[encoded data removed]",
            "text/plain": [
              "<Figure size 432x288 with 1 Axes>"
            ]
          },
          "metadata": {
            "tags": [],
            "needs_background": "light"
          }
        }
      ]
    }
  ]
}