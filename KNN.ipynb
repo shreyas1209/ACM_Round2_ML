{
  "nbformat": 4,
  "nbformat_minor": 0,
  "metadata": {
    "colab": {
      "name": "KNN",
      "provenance": [],
      "collapsed_sections": [],
      "authorship_tag": "ABX9TyOewjAn51JHCxrliYOoEba6",
      "include_colab_link": true
    },
    "kernelspec": {
      "name": "python3",
      "display_name": "Python 3"
    },
    "accelerator": "GPU"
  },
  "cells": [
    {
      "cell_type": "markdown",
      "metadata": {
        "id": "view-in-github",
        "colab_type": "text"
      },
      "source": [
        "<a href=\"https://colab.research.google.com/github/shreyas1209/ACM_Round2_ML/blob/main/KNN.ipynb\" target=\"_parent\"><img src=\"https://colab.research.google.com/assets/colab-badge.svg\" alt=\"Open In Colab\"/></a>"
      ]
    },
    {
      "cell_type": "code",
      "metadata": {
        "id": "FlnToDI_zzYB"
      },
      "source": [
        "from collections import Counter\n",
        "from sklearn.datasets import fetch_openml\n",
        "import matplotlib.pyplot as plt\n",
        "import math\n",
        "import pandas as pd\n",
        "import time\n",
        "import numpy as np"
      ],
      "execution_count": 13,
      "outputs": []
    },
    {
      "cell_type": "code",
      "metadata": {
        "id": "Txb8q324z_gN"
      },
      "source": [
        "#loading MNIST dataset using sklearn.datasets\n",
        "\n",
        "X, y = fetch_openml('mnist_784', version=1, return_X_y=True)\n",
        "\n",
        "X = np.array(X)\n",
        "y = np.array(y)"
      ],
      "execution_count": 14,
      "outputs": []
    },
    {
      "cell_type": "code",
      "metadata": {
        "colab": {
          "base_uri": "https://localhost:8080/"
        },
        "id": "t9nRrAD3z_6M",
        "outputId": "4e11ba12-e3e0-4a07-d8c9-67f3cb779565"
      },
      "source": [
        "print('Total number of samples is', y.shape[0])\n",
        "print('Size of the features is:', X.shape)\n",
        "#Each image has 28X28 size"
      ],
      "execution_count": 15,
      "outputs": [
        {
          "output_type": "stream",
          "text": [
            "Total number of samples is 70000\n",
            "Size of the features is: (70000, 784)\n"
          ],
          "name": "stdout"
        }
      ]
    },
    {
      "cell_type": "code",
      "metadata": {
        "id": "B1LheTXc0AA-"
      },
      "source": [
        "# To calculate euclidean distance for finding the nearest neighbours\n",
        "def euclidean_distance(x,y):   \n",
        "    return np.sqrt(np.sum(((x-y)**2),axis=1))"
      ],
      "execution_count": 16,
      "outputs": []
    },
    {
      "cell_type": "code",
      "metadata": {
        "colab": {
          "base_uri": "https://localhost:8080/"
        },
        "id": "WE-y4f_d0ANQ",
        "outputId": "a903705a-dc01-45a1-dad2-86b7fcb47a08"
      },
      "source": [
        "#splitting data into training set and test set\n",
        "from sklearn.model_selection import train_test_split\n",
        "\n",
        "X_train, X_test, y_train, y_test = train_test_split(X,y,train_size=0.15,test_size=0.0375,random_state=42)\n",
        "\n",
        "\n",
        "\n",
        "#dimensions of X_train, X_test, y_train, y_test\n",
        "print(\"The dimensions of X_train is\",X_train.shape)\n",
        "print(\"The dimensions of y_train is\",y_train.shape)\n",
        "print(\"The dimensions of X_test is\",X_test.shape)\n",
        "print(\"The dimensions of y_test is\",y_test.shape)"
      ],
      "execution_count": 23,
      "outputs": [
        {
          "output_type": "stream",
          "text": [
            "The dimensions of X_train is (10500, 784)\n",
            "The dimensions of y_train is (10500,)\n",
            "The dimensions of X_test is (2625, 784)\n",
            "The dimensions of y_test is (2625,)\n"
          ],
          "name": "stdout"
        }
      ]
    },
    {
      "cell_type": "code",
      "metadata": {
        "id": "B8Hz0CCU0N9t"
      },
      "source": [
        "# Function for training KNN model\n",
        "\n",
        "def KNNtrain(K):\n",
        "    \n",
        "    training_predictions =[] # list for the predicted values of the training examples\n",
        "    train_ind=np.array(range(X_train.shape[0])) #storing index values\n",
        "    \n",
        "    for i in X_train:\n",
        "        \n",
        "        train_distance = np.array([]) #list storing the euclidean distance \n",
        "        \n",
        "        train_distance = (euclidean_distance(i,X_train))\n",
        "      \n",
        "        \n",
        "\n",
        "\n",
        "        \n",
        "        \n",
        "        di = {'index':train_ind , 'distance':train_distance} #dictionary storing the resulting values of distance and index\n",
        "        \n",
        "        df = pd.DataFrame(di,columns=['index','distance'])\n",
        "        \n",
        "        df = df.sort_values(by='distance') #sorting in ascending order based on distance\n",
        "        \n",
        "        index = df['index'][0:K]\n",
        "        distances = df['distance'][0:K]\n",
        "        \n",
        "        y_prediction = [] # A list that contains values of the labels of the respective indexes of the k nearest neighbours\n",
        "        \n",
        "        #finding the maximum occurence of a particular label\n",
        "        \n",
        "        for i in index:\n",
        "            y_prediction.append(y[i])\n",
        "            \n",
        "        predicted_val = max(y_prediction,key = y_prediction.count)\n",
        "        \n",
        "        training_predictions.append(predicted_val) #adding the predicted value to the training predictions list\n",
        "        \n",
        "        \n",
        "        \n",
        "        \n",
        "        \n",
        "    return training_predictions"
      ],
      "execution_count": 24,
      "outputs": []
    },
    {
      "cell_type": "code",
      "metadata": {
        "id": "xiey0EM40RD5"
      },
      "source": [
        "# Function for testing KNN model\n",
        "\n",
        "def KNNtest(K):\n",
        "    test_predictions = [] # list for the predicted values of the test examples\n",
        "    test_ind = np.array(range (X_train.shape[0]))\n",
        "    \n",
        "    for i in X_test :\n",
        "        \n",
        "        test_distance =np.array([]) #list storing the euclidean distance for test values\n",
        "            \n",
        "        test_distance = (euclidean_distance(i,X_train))\n",
        "        \n",
        "            \n",
        "            \n",
        "        di = {'index':test_ind , 'distance':test_distance} #dictionary storing the resulting values of distance and index\n",
        "        \n",
        "        df = pd.DataFrame(di, columns = ['index', 'distance'])\n",
        "        df = df.sort_values(by='distance')  #sorting in ascending order based on distance\n",
        "        \n",
        "        index = df['index'][0:K]\n",
        "        distances = df['distance'][0:K]\n",
        "        y_test_predictions = [] # A list that contains values of the labels of the respective indexes of the k nearest neighbours\n",
        "        \n",
        "        for i in index:\n",
        "            y_test_predictions.append(y_train[i])  #list of labels corresponding to the respective indexes\n",
        "            \n",
        "        predicted_val = max(y_test_predictions,key = y_test_predictions.count)\n",
        "        \n",
        "        test_predictions.append(predicted_val) #adding the predicted value to the training predictions list\n",
        "\n",
        "        \n",
        "    return test_predictions"
      ],
      "execution_count": 25,
      "outputs": []
    },
    {
      "cell_type": "code",
      "metadata": {
        "id": "-4sXNvBy0OUU"
      },
      "source": [
        "#function for training accuracy\n",
        "\n",
        "def training_accuracy(ytrainpred,ytrain):\n",
        "    train_pred = 0 #initialising the no of correctly predicted training examples\n",
        "    \n",
        "    for i in range (len(ytrainpred)):\n",
        "        if ytrainpred[i]==y[i]:\n",
        "            train_pred+=1\n",
        "        \n",
        "    score = (train_pred/(len(ytrain)))\n",
        "    \n",
        "    return score"
      ],
      "execution_count": 26,
      "outputs": []
    },
    {
      "cell_type": "code",
      "metadata": {
        "id": "F1oOf8Sm0zMC"
      },
      "source": [
        "#function for testing accuracy\n",
        "\n",
        "def testing_accuracy(ytestpred,ytest):\n",
        "    test_pred = 0  #initialising the no of correctly predicted testing examples\n",
        "    \n",
        "    for i in range (len(ytestpred)):\n",
        "        if ytestpred[i]==ytest[i]:\n",
        "            test_pred+=1\n",
        "        \n",
        "    score = (test_pred/(len(ytest)))\n",
        "    \n",
        "    return score"
      ],
      "execution_count": 27,
      "outputs": []
    },
    {
      "cell_type": "code",
      "metadata": {
        "id": "o1_9FSBF0zei",
        "colab": {
          "base_uri": "https://localhost:8080/"
        },
        "outputId": "2cfd3f07-f6e4-4d2c-d9b6-7a10f530b1a4"
      },
      "source": [
        "#main\n",
        "\n",
        "#finding accuracy for training examples \n",
        "#K=[1,3,5,7,9,11,13,15]  #different k-values for KNN\n",
        "\n",
        "\n",
        "\n",
        "\n",
        "train_predict_list = KNNtrain(3)\n",
        "score = training_accuracy(train_predict_list,y_train)\n",
        "      \n",
        "print(\"The score for K = \"+str(3)+\" is \"+str(score))\n",
        "      "
      ],
      "execution_count": 28,
      "outputs": [
        {
          "output_type": "stream",
          "text": [
            "The score for K = 3 is 0.912952380952381\n"
          ],
          "name": "stdout"
        }
      ]
    },
    {
      "cell_type": "code",
      "metadata": {
        "id": "ZOS68lLJ0-xX",
        "colab": {
          "base_uri": "https://localhost:8080/"
        },
        "outputId": "fc6f55a0-b1f4-4c0f-9a24-5ed3f5e7bcb5"
      },
      "source": [
        "#finding accuracy for test examples\n",
        "\n",
        "\n",
        "test_predict_list = KNNtest(3)\n",
        "score = testing_accuracy(test_predict_list,y_test)\n",
        "    \n",
        "print(\"The score for K = \"+str(3)+\" is \"+str(score))"
      ],
      "execution_count": 29,
      "outputs": [
        {
          "output_type": "stream",
          "text": [
            "The score for K = 3 is 0.9500952380952381\n"
          ],
          "name": "stdout"
        }
      ]
    }
  ]
}